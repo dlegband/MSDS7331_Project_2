{
 "cells": [
  {
   "cell_type": "markdown",
   "metadata": {},
   "source": [
    "# MSDS 7331 - Project 2\n",
    "## Team: Dineen Parker, Dale Legband, Ryan Shuhart\n",
    "collaboration site: https://github.com/rlshuhart/MSDS7331_Project_2"
   ]
  },
  {
   "cell_type": "markdown",
   "metadata": {},
   "source": [
    "### Tasks\n",
    "\n",
    "Ryan:\n",
    "1. bring over pre-processing code <font color=\"green\">DONE!</font>\n",
    "2. Create a function to pass in:\n",
    "    * target data y\n",
    "    * explanatory data X\n",
    "    * Stratified K-fold cross validation object\n",
    "    * Model\n",
    "    * grid search parameters\n",
    "\n",
    "\n",
    "Dineen:\n",
    "1. dividing your data into training and testing splits\n",
    "\n",
    "\n",
    "Dale:\n",
    "1. Gridsearch"
   ]
  },
  {
   "cell_type": "markdown",
   "metadata": {},
   "source": [
    "## Put your iterative learning here. Everytime you go through the code and learned something make a bullet point:\n",
    "* Example"
   ]
  },
  {
   "cell_type": "code",
   "execution_count": 3,
   "metadata": {
    "collapsed": true
   },
   "outputs": [],
   "source": [
    "### Modules Used ###\n",
    "\n",
    "# Data manipulation: pandas and numpy\n",
    "import pandas as pd\n",
    "import numpy as np\n",
    "\n",
    "# Visualization: seaborn and matplotlib\n",
    "import matplotlib.pyplot as plt\n",
    "import seaborn as sns\n",
    "\n",
    "# other\n",
    "import time\n",
    "import warnings"
   ]
  },
  {
   "cell_type": "markdown",
   "metadata": {},
   "source": [
    "<hr>\n",
    "#### Variable Notes:\n",
    "AGE - This variable is right skewed with a range from age 21 to 79. The average age is 35 with the median at 34. This variable is clean of outliers.\n",
    "\n",
    "Bill Amount (BILL_AMT1_Sept - BILL_AMT6_April) - The amount of the credit card bill in Taiwan Dollar for the months April 2005 to September2015. The bill amounts across the months are highly correlated.\n",
    "\n",
    "EDUCATION - Undergraduate degree (University) is the most common education level at 46.8%. The majority of observations (82.1%) are from individuals with an undergraduate degree (University) or better.\n",
    "\n",
    "LIMIT_BAL - Ranges from 10k to 1mm with a median of 140k. The values are right skewed, however, no unreasonable looking outliers. The total credit limit extended to the sample is over five billion.\n",
    "\n",
    "MARRIAGE - Single makes up the largest group at 53.2%, then Married at 45.5%, and lastly an Others group of 1.3%\n",
    "\n",
    "Pay History (PAY_0_Sept - PAY_6_April) - The 3rd quartile for each month is zero meaning, most observations are zero or less. One month delays seem to be far more absent in months PAY_2_Aug to PAY_6_April, with PAY_5_May, PAY_6_April not having any at all and seems rather odd. Only PAY_0_Sept of 1 seems to fit as one would expect. As mentioned previously, the provided documentation does not explain the values of -2 and 0, but it can be inferred as not negative events. To resolve these problems, one solution would be to create a variable called **has_Pay_Delay** history and consolidate it to a binary TRUE/FALSE variable and, thereby, removing the month in which it occurred. \n",
    "\n",
    "Pay Amount (PAY_AMT1_Sept - PAY_AMT6_April) - Is the amount of the payment toward the credit card that month. About a fifth of the observations are zeros each month.\n",
    "\n",
    "SEX - Females are the majority gender at 60.4%.\n",
    "\n",
    "AGE_range - Variable was created by bracketing the ages from the AGE variable by 10 years ('21-30', '31-40', '41-50', '51-60', '61-70', '71-80+'). Seventy-two percent of the observations fall in to the first two categories \"21-30\" and \"31-40.\"\n",
    "\n",
    "default payment next month - This is a binary variable of 0 or 1. 22.1% of the obeservations were considered in default in October 2005 and this is the sample average.\n",
    "\n",
    "\n",
    "#### Description of the Data per Offical Documentation\n",
    "**LIMIT_BAL** (Ratio): Amount of the given credit (NT dollar): it includes both the individual consumer credit and his/her family (supplementary) credit.<br>\n",
    "**SEX** (Nominal): Gender (1 = male; 2 = female)<br>\n",
    "**EDUCATION** (Nominal): Education (1 = graduate school; 2 = university; 3 = high school; 4 = others)<br>\n",
    "**MARRIAGE** (Nominal): Marital status (1 = married; 2 = single; 3 = others)<BR>\n",
    "**AGE** (Interval): Age (year)<BR>\n",
    "**PAY_0_Sept - PAY_6_April** (Ordinal): History of past payment. The past monthly payment records (from April to September, \n",
    "2005). The measurement scale for the repayment status is: <BR>\n",
    "&nbsp;&nbsp;&nbsp;&nbsp;&nbsp;&nbsp;-1 = pay duly<BR>\n",
    "&nbsp;&nbsp;&nbsp;&nbsp;&nbsp;&nbsp;1 - 8 = payment delay for one to eight months <BR>\n",
    "&nbsp;&nbsp;&nbsp;&nbsp;&nbsp;&nbsp;9 = payment delay for nine months and above<BR>\n",
    "**BILL_AMT1_Sept - BILL_AMT6_April** (Ratio): Amount of bill statement (NT dollar) <BR>\n",
    "**PAY_AMT1_Sept - PAY_AMT6_April** (Ratio): Amount of previous payment (NT dollar) <BR>\n",
    "**default payment next month** (Nominal): default payment (Yes = 1, No = 0)"
   ]
  },
  {
   "cell_type": "markdown",
   "metadata": {},
   "source": [
    "### Data Preparation (15 points total)\n",
    "* [10 points] Define and prepare your class variables. Use proper variable\n",
    "representations (int, float, one-hot, etc.). Use pre-processing methods (as needed) for\n",
    "dimensionality reduction, scaling, etc. Remove variables that are not needed/useful for\n",
    "the analysis.\n",
    "\n",
    "* The following were converted 'AGE', 'SEX','MARRIAGE', 'LIMIT_BAL': \n",
    "  * One hot encoding of MARRIAGE\n",
    "  * SEX was converted to isMale\n",
    "  * AGE was converted to age ranges\n",
    "  * LIMIT_BAL was converted to limit ranges\n",
    "* We use scaled data (Standard Scaled) to bring the payment levels and monthly counts into a common scale\n",
    "* We will use StratifiedKFold to create mulitple train/test data sets for cross validation\n",
    "  * We have enough samples that we do not see any weakness of using StratifiedKFold\n",
    "* We use manually selected attributes for a Logistic Model to improve the fit\n",
    "  * Here we will try PCA\n",
    "  * We will use Pipelines to match the attribute reduction with the model\n",
    "\n",
    "* We will use GridSearch to look for optimal parameters for various models, including visualization\n",
    "of the parameters and their resulting models\n",
    "\n",
    "* We will use ROC Curves and AUC scores to decide on the best model\n",
    "* We will use visulazations throughout, but especially in justyfying our model selection\n",
    "* We will document the most important attributes\n"
   ]
  },
  {
   "cell_type": "code",
   "execution_count": 4,
   "metadata": {
    "collapsed": false,
    "scrolled": false
   },
   "outputs": [
    {
     "name": "stdout",
     "output_type": "stream",
     "text": [
      "<class 'pandas.core.frame.DataFrame'>\n",
      "Int64Index: 29601 entries, 1 to 30000\n",
      "Data columns (total 28 columns):\n",
      "SEX                           29601 non-null int64\n",
      "EDUCATION                     29601 non-null int64\n",
      "AGE                           29601 non-null int64\n",
      "PAY_0_Sept                    29601 non-null int64\n",
      "PAY_2_Aug                     29601 non-null int64\n",
      "PAY_3_July                    29601 non-null int64\n",
      "PAY_4_June                    29601 non-null int64\n",
      "PAY_5_May                     29601 non-null int64\n",
      "PAY_6_April                   29601 non-null int64\n",
      "BILL_AMT1_Sept                29601 non-null int64\n",
      "BILL_AMT2_Aug                 29601 non-null int64\n",
      "BILL_AMT3_July                29601 non-null int64\n",
      "BILL_AMT4_June                29601 non-null int64\n",
      "BILL_AMT5_May                 29601 non-null int64\n",
      "BILL_AMT6_April               29601 non-null int64\n",
      "PAY_AMT1_Sept                 29601 non-null int64\n",
      "PAY_AMT2_Aug                  29601 non-null int64\n",
      "PAY_AMT3_July                 29601 non-null int64\n",
      "PAY_AMT4_June                 29601 non-null int64\n",
      "PAY_AMT5_May                  29601 non-null int64\n",
      "PAY_AMT6_April                29601 non-null int64\n",
      "default payment next month    29601 non-null int64\n",
      "AGE_range                     29601 non-null int32\n",
      "LIMIT_BAL_range               29601 non-null int32\n",
      "isMale                        29601 non-null bool\n",
      "Marriage_Married              29601 non-null float64\n",
      "Marriage_Others               29601 non-null float64\n",
      "Marriage_Single               29601 non-null float64\n",
      "dtypes: bool(1), float64(3), int32(2), int64(22)\n",
      "memory usage: 6.1 MB\n",
      "None\n"
     ]
    }
   ],
   "source": [
    "# First row are for reference with header starting on line 2.\n",
    "# ID field is use as the index field in the data frame\n",
    "# Month specific columns renamed with month for readability\n",
    "\n",
    "cc_data = (pd.read_excel(\"./cc_data/default of credit card clients.xls\", skiprows=1, index_col='ID')\n",
    "             .rename(columns={'PAY_0':'PAY_0_Sept', #No Pay_1\n",
    "                              'PAY_2':'PAY_2_Aug', # change 'this':'to that'\n",
    "                              'PAY_3':'PAY_3_July', \n",
    "                              'PAY_4':'PAY_4_June',\n",
    "                              'PAY_5':'PAY_5_May',\n",
    "                              'PAY_6':'PAY_6_April',\n",
    "                              'BILL_AMT1':'BILL_AMT1_Sept', \n",
    "                              'BILL_AMT2':'BILL_AMT2_Aug', \n",
    "                              'BILL_AMT3':'BILL_AMT3_July', \n",
    "                              'BILL_AMT4':'BILL_AMT4_June', \n",
    "                              'BILL_AMT5':'BILL_AMT5_May',\n",
    "                              'BILL_AMT6':'BILL_AMT6_April', \n",
    "                              'PAY_AMT1':'PAY_AMT1_Sept', \n",
    "                              'PAY_AMT2':'PAY_AMT2_Aug', \n",
    "                              'PAY_AMT3':'PAY_AMT3_July', \n",
    "                              'PAY_AMT4':'PAY_AMT4_June', \n",
    "                              'PAY_AMT5':'PAY_AMT5_May',\n",
    "                              'PAY_AMT6':'PAY_AMT6_April'\n",
    "                             })\n",
    "             # Due to the many age values, creating ordinal age brackets\n",
    "             # '21-30':0,\n",
    "             # '31-40':1,\n",
    "             # '41-50':2, \n",
    "             # '51-60':3,\n",
    "             # '61-70':4,\n",
    "             # '71-80+':5\n",
    "             .assign(AGE_range = lambda x: pd.cut(x['AGE'],[20,30,40,50,60,70,120], 6, \n",
    "                                                 labels=[0,1,2,3,4,5]).astype(int))\n",
    "             # this creates a new variable for LIMIT_BAL_brackets and drop 'LIMIT_BAL'\n",
    "             .assign(LIMIT_BAL_range = lambda x: pd.cut(x['LIMIT_BAL'],[0,250000,500000,750000,1e7], 4, \n",
    "                                                 labels=[0,1,2,3]).astype(int))\n",
    "             .drop(['LIMIT_BAL'], axis=1)\n",
    "             # Male = 1 and Female = 2, this creates binary 0 or 1 feature if male\n",
    "             .assign(isMale = lambda x: x['SEX'] == 1) \n",
    "             .assign(MARRIAGE = lambda x: x['MARRIAGE'].apply({1:'Married', \n",
    "                                                               2:'Single',\n",
    "                                                               3:'Others'}.get))\n",
    "                                                        \n",
    "           )\n",
    "\n",
    "# drop rows with missing marriage indicator. Loss of 54 rows to 29,946\n",
    "cc_data = cc_data[cc_data['MARRIAGE'].isin(['Married','Single','Others'])] \n",
    "\n",
    "# Make dummies from marriage and drop marriage column\n",
    "cc_data = (pd.concat((cc_data,\n",
    "                     pd.get_dummies(cc_data['MARRIAGE'], prefix='Marriage')), \n",
    "                    axis=1)\n",
    "           .drop('MARRIAGE', axis=1)\n",
    "           )\n",
    "\n",
    "# drop undocumented 'Education' values. Loss of 345 rows to 29,601\n",
    "# Impute undefined values. \"~\" symbol means to invert. Or for the below \"not in\"\n",
    "cc_data = cc_data[cc_data['EDUCATION'].isin([1,2,3,4])]\n",
    "\n",
    "# Remap to ordinal numbering from:\n",
    "# 1:'Graduate School', \n",
    "# 2:'University',\n",
    "# 3:'High School',\n",
    "# 4:'Others'\n",
    "# to:\n",
    "# 'High School':0,\n",
    "# 'University':1,\n",
    "# 'Graduate School':2, \n",
    "# 'Others':3\n",
    "cc_data = cc_data.assign(EDUCATION = lambda x: x['EDUCATION'].apply({1:2, \n",
    "                                                                     2:1,\n",
    "                                                                     3:0,\n",
    "                                                                     4:3}.get))\n",
    "\n",
    "print(cc_data.info())"
   ]
  },
  {
   "cell_type": "code",
   "execution_count": 5,
   "metadata": {
    "collapsed": false
   },
   "outputs": [],
   "source": [
    "# Seperate target data and explanatory data to NumPy arrays\n",
    "# ***Alert*** Changed variable names\n",
    "y = cc_data['default payment next month'].values\n",
    "X = cc_data.drop('default payment next month', axis='columns').values\n",
    "\n",
    "# Column names for labeling\n",
    "X_names = cc_data.drop('default payment next month', axis='columns').columns"
   ]
  },
  {
   "cell_type": "code",
   "execution_count": 6,
   "metadata": {
    "collapsed": false
   },
   "outputs": [],
   "source": [
    "# Source: Python Machine Learning by Sebastian Raschka\n",
    "# Create train and test sets using 80/20 split\n",
    "from sklearn.cross_validation import train_test_split\n",
    "X_train, X_test, y_train, y_test =  train_test_split(X, y, test_size=0.20, random_state=1)"
   ]
  },
  {
   "cell_type": "code",
   "execution_count": 64,
   "metadata": {
    "collapsed": true
   },
   "outputs": [],
   "source": [
    "# Source: Python Machine Learning by Sebastian Raschka\n",
    "# estimator pipelines\n",
    "from sklearn.preprocessing import StandardScaler\n",
    "from sklearn.decomposition import PCA\n",
    "from sklearn.linear_model import LogisticRegression\n",
    "from sklearn.neighbors import KNeighborsClassifier\n",
    "from sklearn.ensemble import RandomForestClassifier\n",
    "from sklearn.pipeline import Pipeline\n",
    "\n",
    "###############################################################################\n",
    "########################## Logistic Regression Pipe ###########################\n",
    "###############################################################################\n",
    "clf_name='Logistic Regression'\n",
    "pipe_lr = Pipeline([('scl', StandardScaler()),\n",
    "                    ('pca', PCA()),\n",
    "                    ('clf', LogisticRegression(random_state=1))])\n",
    "param_grid_lr = [{'pca__n_components':[1,2,3,4],\n",
    "                  'clf__C': [.1,1,10,100,1000],\n",
    "                  'clf__penalty': ['l1','l2'],\n",
    "                  'clf__class_weight': ['balanced', None]}]\n",
    "payload_lr = [clf_name, pipe_lr, param_grid_lr]\n",
    "\n",
    "###############################################################################\n",
    "################################## KNN Pipe ###################################\n",
    "###############################################################################\n",
    "clf_name='K Nearest Neighbors'\n",
    "pipe_knn = Pipeline([('scl', StandardScaler()),\n",
    "                    ('pca', PCA()),\n",
    "                    ('clf', KNeighborsClassifier())])\n",
    "\n",
    "param_grid_knn = [{'pca__n_components':[1,2,3,4],\n",
    "                   'clf__n_neighbors': np.arange(1, 11, 1), # Series of 1 to 10\n",
    "                   'clf__p': [1,2]}]\n",
    "\n",
    "payload_knn = [clf_name, pipe_knn, param_grid_knn]\n",
    "\n",
    "\n",
    "###############################################################################\n",
    "############################## Randomforest Pipe ##############################\n",
    "###############################################################################\n",
    "# No need to scale on RF\n",
    "clf_name='Random Forest'\n",
    "pipe_rf = Pipeline([('clf', RandomForestClassifier(random_state=1,\n",
    "                                                   n_jobs=1))])\n",
    "\n",
    "param_grid_rf = [{'clf__criterion': ['entropy','gini'],\n",
    "                  'clf__n_estimators': [1,5,10,15,20], \n",
    "                  'clf__max_features': ['auto', 'sqrt', 'log2', None],\n",
    "                  'clf__class_weight': ['balanced', 'balanced_subsample', None]}]\n",
    "\n",
    "payload_rf = [clf_name, pipe_rf, param_grid_rf]"
   ]
  },
  {
   "cell_type": "code",
   "execution_count": 65,
   "metadata": {
    "collapsed": false
   },
   "outputs": [
    {
     "name": "stdout",
     "output_type": "stream",
     "text": [
      "0.439736744205\n",
      "{'pca__n_components': 3, 'clf__C': 10, 'clf__penalty': 'l1', 'clf__class_weight': 'balanced'}\n",
      "Pipeline(steps=[('scl', StandardScaler(copy=True, with_mean=True, with_std=True)), ('pca', PCA(copy=True, n_components=3, whiten=False)), ('clf', LogisticRegression(C=10, class_weight='balanced', dual=False,\n",
      "          fit_intercept=True, intercept_scaling=1, max_iter=100,\n",
      "          multi_class='ovr', n_jobs=1, penalty='l1', random_state=1,\n",
      "          solver='liblinear', tol=0.0001, verbose=0, warm_start=False))])\n",
      "0.395256546175\n",
      "{'pca__n_components': 3, 'clf__p': 1, 'clf__n_neighbors': 7}\n",
      "Pipeline(steps=[('scl', StandardScaler(copy=True, with_mean=True, with_std=True)), ('pca', PCA(copy=True, n_components=3, whiten=False)), ('clf', KNeighborsClassifier(algorithm='auto', leaf_size=30, metric='minkowski',\n",
      "           metric_params=None, n_jobs=1, n_neighbors=7, p=1,\n",
      "           weights='uniform'))])\n",
      "0.462348574887\n",
      "{'clf__max_features': 'auto', 'clf__class_weight': None, 'clf__n_estimators': 15, 'clf__criterion': 'entropy'}\n",
      "Pipeline(steps=[('clf', RandomForestClassifier(bootstrap=True, class_weight=None, criterion='entropy',\n",
      "            max_depth=None, max_features='auto', max_leaf_nodes=None,\n",
      "            min_samples_leaf=1, min_samples_split=2,\n",
      "            min_weight_fraction_leaf=0.0, n_estimators=15, n_jobs=1,\n",
      "            oob_score=False, random_state=1, verbose=0, warm_start=False))])\n"
     ]
    }
   ],
   "source": [
    "# Source: Python Machine Learning by Sebastian Raschka\n",
    "from sklearn.grid_search import GridSearchCV\n",
    "from sklearn import metrics\n",
    "from sklearn.metrics import roc_curve, auc\n",
    "from sklearn.cross_validation import train_test_split\n",
    "\n",
    "# http://scikit-learn.org/stable/modules/model_evaluation.html\n",
    "\"\"\"\n",
    "Per documentation on Scikit-Learn regarding cross validation (cv) parameter, \n",
    "\"For integer/None inputs, if y is binary or multiclass, StratifiedKFold used. If the \n",
    "estimator is a classifier or if y is neither binary nor multiclass, KFold is used.\"\n",
    "\"\"\"\n",
    "\n",
    "def grid_searcher2(X, y, payload):\n",
    "    X_train, X_test, y_train, y_test = \\\n",
    "                            train_test_split(X, y, test_size=0.20, random_state=1)\n",
    "    with warnings.catch_warnings():\n",
    "        warnings.simplefilter(\"ignore\")\n",
    "        gs = GridSearchCV(estimator=payload[1], \n",
    "                          param_grid=payload[2], \n",
    "                          scoring='f1', \n",
    "                          cv=10,\n",
    "                          n_jobs=-1)\n",
    "\n",
    "        gs = gs.fit(X_train, y_train)\n",
    "        print(gs.best_score_)\n",
    "        print(gs.best_params_)\n",
    "        print(gs.best_estimator_)\n",
    "    return gs\n",
    "\n",
    "# Run Logistic Regression, KNN, and Random Forest Models\n",
    "gs_lr = grid_searcher2(X, y, payload_lr)\n",
    "gs_knn = grid_searcher2(X, y, payload_knn)\n",
    "gs_rf = grid_searcher2(X, y, payload_rf)"
   ]
  },
  {
   "cell_type": "code",
   "execution_count": 66,
   "metadata": {
    "collapsed": false,
    "scrolled": false
   },
   "outputs": [
    {
     "name": "stdout",
     "output_type": "stream",
     "text": [
      "\n",
      "Classification Report:\n",
      "             precision    recall  f1-score   support\n",
      "\n",
      "          0       0.86      0.66      0.75      4611\n",
      "          1       0.34      0.63      0.45      1310\n",
      "\n",
      "avg / total       0.75      0.65      0.68      5921\n",
      "\n",
      "\n",
      "Classification Report:\n",
      "             precision    recall  f1-score   support\n",
      "\n",
      "          0       0.82      0.93      0.87      4611\n",
      "          1       0.55      0.30      0.39      1310\n",
      "\n",
      "avg / total       0.76      0.79      0.77      5921\n",
      "\n",
      "\n",
      "Classification Report:\n",
      "             precision    recall  f1-score   support\n",
      "\n",
      "          0       0.84      0.93      0.89      4611\n",
      "          1       0.62      0.39      0.48      1310\n",
      "\n",
      "avg / total       0.79      0.81      0.80      5921\n",
      "\n"
     ]
    }
   ],
   "source": [
    "%matplotlib inline\n",
    "# Source: Python Machine Learning by Sebastian Raschka\n",
    "# Create train and test sets using 80/20 split\n",
    "from sklearn.cross_validation import train_test_split\n",
    "from sklearn.metrics import classification_report\n",
    "\n",
    "X_train, X_test, y_train, y_test =  train_test_split(X, y, test_size=0.20, random_state=1)\n",
    "\n",
    "# Make ROC Curve\n",
    "def roc_data(gs, X_train, y_train, X_test, y_test):\n",
    "    with warnings.catch_warnings():\n",
    "        warnings.simplefilter(\"ignore\")\n",
    "        best_clf = gs.best_estimator_\n",
    "        best_clf.fit(X_train, y_train)\n",
    "        y_pred_proba = best_clf.predict_proba(X_test)[:, 1]\n",
    "        fpr, tpr, _ = roc_curve(y_test, y_pred_proba)\n",
    "        y_pred = best_clf.predict(X_test)\n",
    "        print(\"\\nClassification Report:\")\n",
    "        print(classification_report(y_test, y_pred))\n",
    "    return fpr, tpr\n",
    "\n",
    "fpr_lr, tpr_lr = roc_data(gs_lr, X_train, y_train, X_test, y_test)\n",
    "fpr_knn, tpr_knn = roc_data(gs_knn, X_train, y_train, X_test, y_test)\n",
    "fpr_rf, tpr_rf = roc_data(gs_rf, X_train, y_train, X_test, y_test)"
   ]
  },
  {
   "cell_type": "code",
   "execution_count": 67,
   "metadata": {
    "collapsed": false
   },
   "outputs": [
    {
     "data": {
      "image/png": "[encoded data removed]",
      "text/plain": [
       "<matplotlib.figure.Figure at 0xbf3e588>"
      ]
     },
     "metadata": {},
     "output_type": "display_data"
    }
   ],
   "source": [
    "%matplotlib inline\n",
    "plt.figure(figsize=(10, 10))\n",
    "plt.plot(fpr_lr, tpr_lr, label='Logistic Reg')\n",
    "plt.plot(fpr_knn, tpr_knn, label='KNN')\n",
    "plt.plot(fpr_rf, tpr_rf, label='RF')\n",
    "plt.plot([0, 1], [0, 1], 'k--')\n",
    "plt.legend(loc=\"lower right\")\n",
    "plt.show()\n"
   ]
  },
  {
   "cell_type": "code",
   "execution_count": 34,
   "metadata": {
    "collapsed": false
   },
   "outputs": [
    {
     "data": {
      "text/plain": [
       "Pipeline(steps=[('scl', StandardScaler(copy=True, with_mean=True, with_std=True)), ('pca', PCA(copy=True, n_components=3, whiten=False)), ('clf', LogisticRegression(C=0.1, class_weight='balanced', dual=False,\n",
       "          fit_intercept=True, intercept_scaling=1, max_iter=100,\n",
       "          multi_class='ovr', n_jobs=1, penalty='l1', random_state=1,\n",
       "          solver='liblinear', tol=0.0001, verbose=0, warm_start=False))])"
      ]
     },
     "execution_count": 34,
     "metadata": {},
     "output_type": "execute_result"
    }
   ],
   "source": [
    "gs_lr.best_estimator_"
   ]
  },
  {
   "cell_type": "code",
   "execution_count": 68,
   "metadata": {
    "collapsed": false
   },
   "outputs": [],
   "source": [
    "#******************************************************************************\n",
    "#***************************** K Fold Parameters ******************************\n",
    "#******************************************************************************\n",
    "\n",
    "############################ Logistic Regression ##############################\n",
    "clf_name='Logistic Regression'\n",
    "kf_payload_lr = [clf_name, gs_lr.best_estimator_]\n",
    "\n",
    "#################################### KNN ######################################\n",
    "clf_name='K Nearest Neighbors'\n",
    "kf_payload_knn = [clf_name, gs_knn.best_estimator_]\n",
    "\n",
    "################################ Random Forest ################################\n",
    "clf_name='Random Forest'\n",
    "kf_payload_rf = [clf_name, gs_rf.best_estimator_]"
   ]
  },
  {
   "cell_type": "code",
   "execution_count": 69,
   "metadata": {
    "collapsed": false
   },
   "outputs": [
    {
     "name": "stdout",
     "output_type": "stream",
     "text": [
      "Logistic Regression\n",
      "Fold: 1, Class dist.: [16546  4765], Acc: 0.645\n",
      "Fold: 2, Class dist.: [16546  4765], Acc: 0.637\n",
      "Fold: 3, Class dist.: [16546  4765], Acc: 0.634\n",
      "Fold: 4, Class dist.: [16546  4765], Acc: 0.657\n",
      "Fold: 5, Class dist.: [16546  4765], Acc: 0.645\n",
      "Fold: 6, Class dist.: [16547  4766], Acc: 0.653\n",
      "Fold: 7, Class dist.: [16547  4766], Acc: 0.653\n",
      "Fold: 8, Class dist.: [16547  4766], Acc: 0.637\n",
      "Fold: 9, Class dist.: [16547  4766], Acc: 0.642\n",
      "Fold: 10, Class dist.: [16547  4766], Acc: 0.657\n",
      "\n",
      "CV accuracy: 0.646 +/- 0.008\n",
      "\n",
      "K Nearest Neighbors\n",
      "Fold: 1, Class dist.: [16546  4765], Acc: 0.799\n",
      "Fold: 2, Class dist.: [16546  4765], Acc: 0.783\n",
      "Fold: 3, Class dist.: [16546  4765], Acc: 0.771\n",
      "Fold: 4, Class dist.: [16546  4765], Acc: 0.800\n",
      "Fold: 5, Class dist.: [16546  4765], Acc: 0.791\n",
      "Fold: 6, Class dist.: [16547  4766], Acc: 0.792\n",
      "Fold: 7, Class dist.: [16547  4766], Acc: 0.782\n",
      "Fold: 8, Class dist.: [16547  4766], Acc: 0.786\n",
      "Fold: 9, Class dist.: [16547  4766], Acc: 0.785\n",
      "Fold: 10, Class dist.: [16547  4766], Acc: 0.789\n",
      "\n",
      "CV accuracy: 0.788 +/- 0.008\n",
      "\n",
      "Random Forest\n",
      "Fold: 1, Class dist.: [16546  4765], Acc: 0.806\n",
      "Fold: 2, Class dist.: [16546  4765], Acc: 0.798\n",
      "Fold: 3, Class dist.: [16546  4765], Acc: 0.801\n",
      "Fold: 4, Class dist.: [16546  4765], Acc: 0.814\n",
      "Fold: 5, Class dist.: [16546  4765], Acc: 0.810\n",
      "Fold: 6, Class dist.: [16547  4766], Acc: 0.804\n",
      "Fold: 7, Class dist.: [16547  4766], Acc: 0.795\n",
      "Fold: 8, Class dist.: [16547  4766], Acc: 0.810\n",
      "Fold: 9, Class dist.: [16547  4766], Acc: 0.807\n",
      "Fold: 10, Class dist.: [16547  4766], Acc: 0.816\n",
      "\n",
      "CV accuracy: 0.806 +/- 0.006\n",
      "\n"
     ]
    }
   ],
   "source": [
    "# Could use cross_val_score instead\n",
    "# Cross Validation Object\n",
    "from sklearn.cross_validation import StratifiedKFold\n",
    "kfold = StratifiedKFold(y=y_train,\n",
    "                           n_folds=10,\n",
    "                           random_state=1)\n",
    "\n",
    "# Source: Python Machine Learning by Sebastian Raschka\n",
    "def kfold_estimator(X_train, y_train, kfold, pipe_payload):\n",
    "    clf_name = pipe_payload[0] # assigns name\n",
    "    pipe = pipe_payload[1] # assigns pipeline\n",
    "    scores = []\n",
    "    print(clf_name)\n",
    "    with warnings.catch_warnings():\n",
    "        warnings.simplefilter(\"ignore\")\n",
    "        for k, (train, test) in enumerate(kfold):\n",
    "            pipe.fit(X_train[train], y_train[train])\n",
    "            score = pipe.score(X_train[test], y_train[test])\n",
    "            scores.append(score)\n",
    "            print('Fold: %s, Class dist.: %s, Acc: %.3f' % (k+1,\n",
    "                  np.bincount(y_train[train]), score))\n",
    "\n",
    "    print('\\nCV accuracy: %.3f +/- %.3f' % (np.mean(scores), np.std(scores)))\n",
    "    print()\n",
    "    return [clf_name, np.mean(scores), np.std(scores)]\n",
    "    \n",
    "metrics_lr = kfold_estimator(X_train, y_train, kfold, kf_payload_lr)\n",
    "metrics_knn = kfold_estimator(X_train, y_train, kfold, kf_payload_knn)\n",
    "metrics_rf = kfold_estimator(X_train, y_train, kfold, kf_payload_rf)"
   ]
  },
  {
   "cell_type": "code",
   "execution_count": 70,
   "metadata": {
    "collapsed": false
   },
   "outputs": [
    {
     "name": "stdout",
     "output_type": "stream",
     "text": [
      "['Logistic Regression', 0.64590474091218009, 0.0080596518837917196] ['K Nearest Neighbors', 0.78787961956856112, 0.0080965228752088551] ['Random Forest', 0.80612340107033131, 0.0064997185209123851]\n"
     ]
    }
   ],
   "source": [
    "print(metrics_lr,\n",
    "metrics_knn,\n",
    "metrics_rf)"
   ]
  },
  {
   "cell_type": "code",
   "execution_count": 71,
   "metadata": {
    "collapsed": false
   },
   "outputs": [
    {
     "name": "stdout",
     "output_type": "stream",
     "text": [
      "(45992, 27)\n",
      "(29601, 27)\n"
     ]
    }
   ],
   "source": [
    "# Something if we have time\n",
    "from imblearn.over_sampling import SMOTE\n",
    "verbose = False\n",
    "ratio = 'auto'\n",
    "# 'SMOTE SVM'\n",
    "svm_args={'class_weight': 'balanced'}\n",
    "svmsmote = SMOTE(ratio=ratio, verbose=verbose, kind='svm', **svm_args)\n",
    "svsX, svsy = svmsmote.fit_sample(X, y)\n",
    "# 'SMOTE'\n",
    "smote = SMOTE(ratio=ratio, verbose=verbose, kind='regular')\n",
    "smoX, smoy = smote.fit_sample(X, y)\n",
    "\n",
    "print(smox.shape)\n",
    "print(X.shape)"
   ]
  },
  {
   "cell_type": "code",
   "execution_count": null,
   "metadata": {
    "collapsed": false
   },
   "outputs": [],
   "source": [
    "# *** Dale I split this cell and put the above in one just for the separating the data ***\n",
    "\n",
    "#PCA or LDA code\n",
    "# now let's use PCA, and LDA to find the two \"best\" dimensions of this data\n",
    "# these are linear transforms to help project the features into something more understandable\n",
    "\n",
    "from sklearn.decomposition import PCA\n",
    "from sklearn.lda import LDA\n",
    "\n",
    "#copy the data to use code from sample\n",
    "# X = cc_data_Xs\n",
    "# y = cc_data_target\n",
    "target_names = cc_data_Xs_names\n",
    "\n",
    "pca = PCA(n_components=4)\n",
    "X_pca = pca.fit(X).transform(X) # fit data and then transform it\n",
    "\n",
    "lda = LDA(n_components=4)\n",
    "X_lda = lda.fit(X, y).transform(X) # fit data and then transform it\n",
    "\n",
    "# print the components\n",
    "\n",
    "print ('pca:', pca.components_)\n",
    "print ('lda:', lda.scalings_.T)"
   ]
  },
  {
   "cell_type": "code",
   "execution_count": null,
   "metadata": {
    "collapsed": false
   },
   "outputs": [],
   "source": [
    "%matplotlib inline\n",
    "# this function definition just formats the weights into readable strings\n",
    "# you can skip it without loss of generality to the Data Science content\n",
    "def get_feature_names_from_weights(weights, names):\n",
    "    tmp_array = []\n",
    "    for comp in weights:\n",
    "        tmp_string = ''\n",
    "        for fidx,f in enumerate(names):\n",
    "            if fidx>0 and comp[fidx]>=0:\n",
    "                tmp_string+='+'\n",
    "            tmp_string += '%.2f*%s ' % (comp[fidx],f[:-5])\n",
    "        tmp_array.append(tmp_string)\n",
    "    return tmp_array\n",
    "  \n",
    "# now let's get to the Data Analytics!\n",
    "pca_weight_strings = get_feature_names_from_weights(pca.components_, cc_data_Xs_names) \n",
    "lda_weight_strings = get_feature_names_from_weights(lda.scalings_.T, cc_data_Xs_names) \n",
    "\n",
    "# create some pandas dataframes from the transformed outputs\n",
    "df_pca = pd.DataFrame(X_pca,columns=[pca_weight_strings])\n",
    "df_lda = pd.DataFrame(X_lda,columns=[lda_weight_strings])\n",
    "\n",
    "from pandas.tools.plotting import scatter_plot\n",
    "\n",
    "print(pca_weight_strings[0])\n",
    "print(pca_weight_strings[1])\n",
    "print(pca_weight_strings[2])\n",
    "print(pca_weight_strings[3])\n",
    "print(lda_weight_strings)\n",
    "# plot is broken.\n",
    "# scatter plot the output, with the names created from the weights\n",
    "ax = scatter_plot(df_pca, pca_weight_strings[0], pca_weight_strings[1])\n",
    "newfig = plt.figure()\n",
    "#ax = scatter_plot(df_lda, 'x', 'x')\n",
    "plt.show()"
   ]
  },
  {
   "cell_type": "markdown",
   "metadata": {},
   "source": [
    "### Data Preparation (15 points total) - part 2\n",
    "\n",
    "* [5 points] Describe the final dataset that is used for classification/regression (include a\n",
    "description of any newly formed variables you created).\n",
    "\n",
    "<font color='Red'>Not Complete</font>\n",
    "\n",
    "\n",
    "#### Convert data to numpy arrays for training"
   ]
  },
  {
   "cell_type": "markdown",
   "metadata": {},
   "source": [
    "### Modeling and Evaluation (70 points total)"
   ]
  },
  {
   "cell_type": "markdown",
   "metadata": {},
   "source": [
    "* [10 points] Choose and explain your evaluation metrics that you will use (i.e., accuracy,\n",
    "precision, recall, F-measure, or any metric we have discussed). Why are the measure(s)\n",
    "appropriate for analyzing the results of your modeling? Give a detailed explanation\n",
    "backing up any assertions.\n",
    "\n",
    "<font color='Red'>Not Complete</font>\n",
    "\n",
    "    ROC Curves and AUC scores are good measures for imbalanced data scources. \"The main goal for learning from imbalanced datasets is to improve the recall without hurting the precision...The F-value metric is one measure that combines the trade-offs of precision and recall, and outputs a single number reflecting the \"goodness\" of a classifier in the presence of rare classes. \"\n",
    "    https://www3.nd.edu/~dial/publications/chawla2005data.pdf\n",
    "\n",
    "    From Wikipedia:\n",
    "    \"Precision (also called positive predictive value) is the fraction of retrieved instances that are relevant\"\n",
    "    \"Recall (also known as sensitivity) is the fraction of relevant instances that are retrieved.\"\n",
    "    https://en.wikipedia.org/wiki/Precision_and_recall"
   ]
  },
  {
   "cell_type": "code",
   "execution_count": null,
   "metadata": {
    "collapsed": false
   },
   "outputs": [],
   "source": [
    "# Find a evaluation metric the is compareable for binary and multiclassification "
   ]
  },
  {
   "cell_type": "markdown",
   "metadata": {},
   "source": [
    "* [10 points] Choose the method you will use for dividing your data into training and\n",
    "testing splits (i.e., are you using Stratified 10-fold cross validation? Why?). Explain why\n",
    "your chosen method is appropriate or use more than one method as appropriate. For\n",
    "example, if you are using time series data then you should be using continuous training\n",
    "and testing sets across time.\n",
    "\n",
    "<font color='Red'>Not Complete</font>\n"
   ]
  },
  {
   "cell_type": "code",
   "execution_count": null,
   "metadata": {
    "collapsed": false
   },
   "outputs": [],
   "source": []
  },
  {
   "cell_type": "code",
   "execution_count": null,
   "metadata": {
    "collapsed": false
   },
   "outputs": [],
   "source": []
  },
  {
   "cell_type": "markdown",
   "metadata": {},
   "source": [
    "* [20 points] Create three different classification/regression models for each task (e.g.,\n",
    "random forest, KNN, and SVM for task one and the same or different algorithms for\n",
    "task two). Two modeling techniques must be new (but the third could be SVM or\n",
    "logistic regression). Adjust parameters as appropriate to increase generalization\n",
    "performance using your chosen metric. You must investigate different parameters\n",
    "of the algorithms!\n",
    "\n",
    "<font color='Red'>Not Complete</font>"
   ]
  },
  {
   "cell_type": "code",
   "execution_count": null,
   "metadata": {
    "collapsed": false
   },
   "outputs": [],
   "source": [
    "# The three different classifications we will use will be logistic regression, random forest, and KNN\n",
    "# *** Do not use scaling on Random Forest - it doesn't need it***\n",
    "\n",
    "# Task 2 find alternative prediction to default; find 3 levels of risk groups, high, medium, low\n",
    "\n",
    "# Apply gridsearchCV"
   ]
  },
  {
   "cell_type": "markdown",
   "metadata": {},
   "source": [
    "* [10 points] Analyze the results using your chosen method of evaluation. Use\n",
    "visualizations of the results to bolster the analysis. Explain any visuals and analyze why\n",
    "they are interesting to someone that might use this model.\n",
    "\n",
    "<font color='Red'>Not Complete</font>"
   ]
  },
  {
   "cell_type": "code",
   "execution_count": null,
   "metadata": {
    "collapsed": false
   },
   "outputs": [],
   "source": [
    "# Draw the ROC for default evaluation\n",
    "\n",
    "# Show something else for the risk grouping"
   ]
  },
  {
   "cell_type": "markdown",
   "metadata": {},
   "source": [
    "* [10 points] Discuss the advantages of each model for each classification task, if any. If\n",
    "there are not advantages, explain why. Is any model better than another? Is the\n",
    "difference significant with 95% confidence? Use proper statistical comparison methods.\n",
    "You must use statistical comparison techniques—be sure they are appropriate for your\n",
    "chosen method of validation as discussed in unit 7 of the course.\n",
    "\n",
    "<font color='Red'>Not Complete</font>"
   ]
  },
  {
   "cell_type": "code",
   "execution_count": null,
   "metadata": {
    "collapsed": false
   },
   "outputs": [],
   "source": [
    "# Look more into this later"
   ]
  },
  {
   "cell_type": "markdown",
   "metadata": {},
   "source": [
    "* [10 points] Which attributes from your analysis are most important? Use proper\n",
    "methods discussed in class to evaluate the importance of different attributes. Discuss\n",
    "the results and hypothesize about why certain attributes are more important than others\n",
    "for a given classification task.\n",
    "\n",
    "<font color='Red'>Not Complete</font>"
   ]
  },
  {
   "cell_type": "code",
   "execution_count": null,
   "metadata": {
    "collapsed": true
   },
   "outputs": [],
   "source": [
    "# Figure this out later"
   ]
  },
  {
   "cell_type": "markdown",
   "metadata": {},
   "source": [
    "Deployment (5 points total)\n",
    "* How useful is your model for interested parties (i.e., the companies or organizations\n",
    "that might want to use it for prediction)? How would you measure the model's value if it\n",
    "was used by these parties? How would your deploy your model for interested parties?\n",
    "What other data should be collected? How often would the model need to be updated,\n",
    "etc.?\n",
    "\n",
    "<font color='Red'>Not Complete</font>\n",
    "* The models provide a starting point for interested parties, identifying the most fruitful models with the data available. From this point, a conversation would be in order with the prospective model users about additional data that would enhance predictions and cover corner cases, and request additional data to test and validate again. \n",
    "* To measure the value, one would implement the model in a business setting. This is envisioned as  customer advisers calling customers that are going to default to offer help or whatever action the business sees fit to take to avoid that outcome. At the point where the CC company has fewer defaults and people have fewer defaults to struggle with, then you have a valid measurement: old default rate versus new default rate.\n",
    "* Updates to the model would be determined by its overall impact to the customer and company, combined with new ideas that develop as the model is tweaked to come up with better predictions. At some point the tweaks will not significantly improve the prediction at which time the company may decide to just keep it as-is and move the resource to more productive problems that need to be tackled. \n"
   ]
  },
  {
   "cell_type": "code",
   "execution_count": null,
   "metadata": {
    "collapsed": true
   },
   "outputs": [],
   "source": [
    "# Other data: Add credit score "
   ]
  },
  {
   "cell_type": "markdown",
   "metadata": {},
   "source": [
    "Exceptional Work (10 points total)\n",
    "* You have free reign to provide additional analyses.\n",
    "* One idea: grid search parameters in a parallelized fashion and visualize the\n",
    "performances across attributes. Which parameters are most significant for making a\n",
    "good model for each classification algorithm?\n",
    "\n",
    "<font color='Red'>Not Complete</font>\n",
    "\n"
   ]
  },
  {
   "cell_type": "code",
   "execution_count": null,
   "metadata": {
    "collapsed": true
   },
   "outputs": [],
   "source": [
    "# Try and use gridsearch in the above"
   ]
  }
 ],
 "metadata": {
  "kernelspec": {
   "display_name": "Python 3",
   "language": "python",
   "name": "python3"
  },
  "language_info": {
   "codemirror_mode": {
    "name": "ipython",
    "version": 3
   },
   "file_extension": ".py",
   "mimetype": "text/x-python",
   "name": "python",
   "nbconvert_exporter": "python",
   "pygments_lexer": "ipython3",
   "version": "3.5.1"
  }
 },
 "nbformat": 4,
 "nbformat_minor": 0
}
