{
 "cells": [
  {
   "cell_type": "markdown",
   "metadata": {},
   "source": [
    "# MSDS 7331 - Project 2\n",
    "## Team: Dineen Parker, Dale Legband, Ryan Shuhart\n",
    "collaboration site: https://github.com/rlshuhart/MSDS7331_Project_2"
   ]
  },
  {
   "cell_type": "markdown",
   "metadata": {},
   "source": [
    "### Tasks\n",
    "\n",
    "Ryan:\n",
    "1. bring over pre-processing code <font color=\"green\">DONE!</font>\n",
    "2. Create a function to pass in:\n",
    "    * target data y\n",
    "    * explanatory data X\n",
    "    * Stratified K-fold cross validation object\n",
    "    * Model\n",
    "    * grid search parameters\n",
    "\n",
    "\n",
    "Dineen:\n",
    "1. dividing your data into training and testing splits\n",
    "\n",
    "\n",
    "Dale:\n",
    "1. Gridsearch"
   ]
  },
  {
   "cell_type": "markdown",
   "metadata": {},
   "source": [
    "## Put your iterative learning here. Everytime you go through the code and learned something make a bullet point:\n",
    "* Example"
   ]
  },
  {
   "cell_type": "code",
   "execution_count": 1,
   "metadata": {
    "collapsed": true
   },
   "outputs": [],
   "source": [
    "### Modules Used ###\n",
    "\n",
    "# Data manipulation: pandas and numpy\n",
    "import pandas as pd\n",
    "import numpy as np\n",
    "\n",
    "# Visualization: seaborn and matplotlib\n",
    "import matplotlib.pyplot as plt\n",
    "import seaborn as sns\n",
    "\n",
    "# other\n",
    "import time\n",
    "import warnings"
   ]
  },
  {
   "cell_type": "markdown",
   "metadata": {},
   "source": [
    "<hr>\n",
    "#### Variable Notes:\n",
    "AGE - This variable is right skewed with a range from age 21 to 79. The average age is 35 with the median at 34. This variable is clean of outliers.\n",
    "\n",
    "Bill Amount (BILL_AMT1_Sept - BILL_AMT6_April) - The amount of the credit card bill in Taiwan Dollar for the months April 2005 to September2015. The bill amounts across the months are highly correlated.\n",
    "\n",
    "EDUCATION - Undergraduate degree (University) is the most common education level at 46.8%. The majority of observations (82.1%) are from individuals with an undergraduate degree (University) or better.\n",
    "\n",
    "LIMIT_BAL - Ranges from 10k to 1mm with a median of 140k. The values are right skewed, however, no unreasonable looking outliers. The total credit limit extended to the sample is over five billion.\n",
    "\n",
    "MARRIAGE - Single makes up the largest group at 53.2%, then Married at 45.5%, and lastly an Others group of 1.3%\n",
    "\n",
    "Pay History (PAY_0_Sept - PAY_6_April) - The 3rd quartile for each month is zero meaning, most observations are zero or less. One month delays seem to be far more absent in months PAY_2_Aug to PAY_6_April, with PAY_5_May, PAY_6_April not having any at all and seems rather odd. Only PAY_0_Sept of 1 seems to fit as one would expect. As mentioned previously, the provided documentation does not explain the values of -2 and 0, but it can be inferred as not negative events. To resolve these problems, one solution would be to create a variable called **has_Pay_Delay** history and consolidate it to a binary TRUE/FALSE variable and, thereby, removing the month in which it occurred. \n",
    "\n",
    "Pay Amount (PAY_AMT1_Sept - PAY_AMT6_April) - Is the amount of the payment toward the credit card that month. About a fifth of the observations are zeros each month.\n",
    "\n",
    "SEX - Females are the majority gender at 60.4%.\n",
    "\n",
    "AGE_range - Variable was created by bracketing the ages from the AGE variable by 10 years ('21-30', '31-40', '41-50', '51-60', '61-70', '71-80+'). Seventy-two percent of the observations fall in to the first two categories \"21-30\" and \"31-40.\"\n",
    "\n",
    "default payment next month - This is a binary variable of 0 or 1. 22.1% of the obeservations were considered in default in October 2005 and this is the sample average.\n",
    "\n",
    "\n",
    "#### Description of the Data per Offical Documentation\n",
    "**LIMIT_BAL** (Ratio): Amount of the given credit (NT dollar): it includes both the individual consumer credit and his/her family (supplementary) credit.<br>\n",
    "**SEX** (Nominal): Gender (1 = male; 2 = female)<br>\n",
    "**EDUCATION** (Nominal): Education (1 = graduate school; 2 = university; 3 = high school; 4 = others)<br>\n",
    "**MARRIAGE** (Nominal): Marital status (1 = married; 2 = single; 3 = others)<BR>\n",
    "**AGE** (Interval): Age (year)<BR>\n",
    "**PAY_0_Sept - PAY_6_April** (Ordinal): History of past payment. The past monthly payment records (from April to September, \n",
    "2005). The measurement scale for the repayment status is: <BR>\n",
    "&nbsp;&nbsp;&nbsp;&nbsp;&nbsp;&nbsp;-1 = pay duly<BR>\n",
    "&nbsp;&nbsp;&nbsp;&nbsp;&nbsp;&nbsp;1 - 8 = payment delay for one to eight months <BR>\n",
    "&nbsp;&nbsp;&nbsp;&nbsp;&nbsp;&nbsp;9 = payment delay for nine months and above<BR>\n",
    "**BILL_AMT1_Sept - BILL_AMT6_April** (Ratio): Amount of bill statement (NT dollar) <BR>\n",
    "**PAY_AMT1_Sept - PAY_AMT6_April** (Ratio): Amount of previous payment (NT dollar) <BR>\n",
    "**default payment next month** (Nominal): default payment (Yes = 1, No = 0)"
   ]
  },
  {
   "cell_type": "markdown",
   "metadata": {},
   "source": [
    "### Data Preparation (15 points total)\n",
    "* [10 points] Define and prepare your class variables. Use proper variable\n",
    "representations (int, float, one-hot, etc.). Use pre-processing methods (as needed) for\n",
    "dimensionality reduction, scaling, etc. Remove variables that are not needed/useful for\n",
    "the analysis.\n",
    "\n",
    "* The following were converted 'AGE', 'SEX','MARRIAGE', 'LIMIT_BAL': \n",
    "  * One hot encoding of MARRIAGE\n",
    "  * SEX was converted to isMale\n",
    "  * AGE was converted to age ranges\n",
    "  * LIMIT_BAL was converted to limit ranges\n",
    "* We use scaled data (Standard Scaled) to bring the payment levels and monthly counts into a common scale\n",
    "* We will use StratifiedKFold to create mulitple train/test data sets for cross validation\n",
    "  * We have enough samples that we do not see any weakness of using StratifiedKFold\n",
    "* We use manually selected attributes for a Logistic Model to improve the fit\n",
    "  * Here we will try PCA\n",
    "  * We will use Pipelines to match the attribute reduction with the model\n",
    "\n",
    "* We will use GridSearch to look for optimal parameters for various models, including visualization\n",
    "of the parameters and their resulting models\n",
    "\n",
    "* We will use ROC Curves and AUC scores to decide on the best model\n",
    "* We will use visulazations throughout, but especially in justyfying our model selection\n",
    "* We will document the most important attributes\n"
   ]
  },
  {
   "cell_type": "code",
   "execution_count": 3,
   "metadata": {
    "collapsed": false,
    "scrolled": false
   },
   "outputs": [
    {
     "name": "stdout",
     "output_type": "stream",
     "text": [
      "<class 'pandas.core.frame.DataFrame'>\n",
      "Int64Index: 29601 entries, 1 to 30000\n",
      "Data columns (total 28 columns):\n",
      "SEX                           29601 non-null int64\n",
      "EDUCATION                     29601 non-null int64\n",
      "AGE                           29601 non-null int64\n",
      "PAY_0_Sept                    29601 non-null int64\n",
      "PAY_2_Aug                     29601 non-null int64\n",
      "PAY_3_July                    29601 non-null int64\n",
      "PAY_4_June                    29601 non-null int64\n",
      "PAY_5_May                     29601 non-null int64\n",
      "PAY_6_April                   29601 non-null int64\n",
      "BILL_AMT1_Sept                29601 non-null int64\n",
      "BILL_AMT2_Aug                 29601 non-null int64\n",
      "BILL_AMT3_July                29601 non-null int64\n",
      "BILL_AMT4_June                29601 non-null int64\n",
      "BILL_AMT5_May                 29601 non-null int64\n",
      "BILL_AMT6_April               29601 non-null int64\n",
      "PAY_AMT1_Sept                 29601 non-null int64\n",
      "PAY_AMT2_Aug                  29601 non-null int64\n",
      "PAY_AMT3_July                 29601 non-null int64\n",
      "PAY_AMT4_June                 29601 non-null int64\n",
      "PAY_AMT5_May                  29601 non-null int64\n",
      "PAY_AMT6_April                29601 non-null int64\n",
      "default payment next month    29601 non-null int64\n",
      "AGE_range                     29601 non-null int32\n",
      "LIMIT_BAL_range               29601 non-null int32\n",
      "isMale                        29601 non-null bool\n",
      "Marriage_Married              29601 non-null float64\n",
      "Marriage_Others               29601 non-null float64\n",
      "Marriage_Single               29601 non-null float64\n",
      "dtypes: bool(1), float64(3), int32(2), int64(22)\n",
      "memory usage: 6.1 MB\n",
      "None\n"
     ]
    }
   ],
   "source": [
    "# First row are for reference with header starting on line 2.\n",
    "# ID field is use as the index field in the data frame\n",
    "# Month specific columns renamed with month for readability\n",
    "\n",
    "cc_data = (pd.read_excel(\"./cc_data/default of credit card clients.xls\", skiprows=1, index_col='ID')\n",
    "             .rename(columns={'PAY_0':'PAY_0_Sept', #No Pay_1\n",
    "                              'PAY_2':'PAY_2_Aug', # change 'this':'to that'\n",
    "                              'PAY_3':'PAY_3_July', \n",
    "                              'PAY_4':'PAY_4_June',\n",
    "                              'PAY_5':'PAY_5_May',\n",
    "                              'PAY_6':'PAY_6_April',\n",
    "                              'BILL_AMT1':'BILL_AMT1_Sept', \n",
    "                              'BILL_AMT2':'BILL_AMT2_Aug', \n",
    "                              'BILL_AMT3':'BILL_AMT3_July', \n",
    "                              'BILL_AMT4':'BILL_AMT4_June', \n",
    "                              'BILL_AMT5':'BILL_AMT5_May',\n",
    "                              'BILL_AMT6':'BILL_AMT6_April', \n",
    "                              'PAY_AMT1':'PAY_AMT1_Sept', \n",
    "                              'PAY_AMT2':'PAY_AMT2_Aug', \n",
    "                              'PAY_AMT3':'PAY_AMT3_July', \n",
    "                              'PAY_AMT4':'PAY_AMT4_June', \n",
    "                              'PAY_AMT5':'PAY_AMT5_May',\n",
    "                              'PAY_AMT6':'PAY_AMT6_April'\n",
    "                             })\n",
    "             # Due to the many age values, creating ordinal age brackets\n",
    "             # '21-30':0,\n",
    "             # '31-40':1,\n",
    "             # '41-50':2, \n",
    "             # '51-60':3,\n",
    "             # '61-70':4,\n",
    "             # '71-80+':5\n",
    "             .assign(AGE_range = lambda x: pd.cut(x['AGE'],[20,30,40,50,60,70,120], 6, \n",
    "                                                 labels=[0,1,2,3,4,5]).astype(int))\n",
    "             # this creates a new variable for LIMIT_BAL_brackets and drop 'LIMIT_BAL'\n",
    "             .assign(LIMIT_BAL_range = lambda x: pd.cut(x['LIMIT_BAL'],[0,250000,500000,750000,1e7], 4, \n",
    "                                                 labels=[0,1,2,3]).astype(int))\n",
    "             .drop(['LIMIT_BAL'], axis=1)\n",
    "             # Male = 1 and Female = 2, this creates binary 0 or 1 feature if male\n",
    "             .assign(isMale = lambda x: x['SEX'] == 1) \n",
    "             .assign(MARRIAGE = lambda x: x['MARRIAGE'].apply({1:'Married', \n",
    "                                                               2:'Single',\n",
    "                                                               3:'Others'}.get))\n",
    "                                                        \n",
    "           )\n",
    "\n",
    "# drop rows with missing marriage indicator. Loss of 54 rows to 29,946\n",
    "cc_data = cc_data[cc_data['MARRIAGE'].isin(['Married','Single','Others'])] \n",
    "\n",
    "# Make dummies from marriage and drop marriage column\n",
    "cc_data = (pd.concat((cc_data,\n",
    "                     pd.get_dummies(cc_data['MARRIAGE'], prefix='Marriage')), \n",
    "                    axis=1)\n",
    "           .drop('MARRIAGE', axis=1)\n",
    "           )\n",
    "\n",
    "# drop undocumented 'Education' values. Loss of 345 rows to 29,601\n",
    "# Impute undefined values. \"~\" symbol means to invert. Or for the below \"not in\"\n",
    "cc_data = cc_data[cc_data['EDUCATION'].isin([1,2,3,4])]\n",
    "\n",
    "# Remap to ordinal numbering from:\n",
    "# 1:'Graduate School', \n",
    "# 2:'University',\n",
    "# 3:'High School',\n",
    "# 4:'Others'\n",
    "# to:\n",
    "# 'High School':0,\n",
    "# 'University':1,\n",
    "# 'Graduate School':2, \n",
    "# 'Others':3\n",
    "cc_data = cc_data.assign(EDUCATION = lambda x: x['EDUCATION'].apply({1:2, \n",
    "                                                                     2:1,\n",
    "                                                                     3:0,\n",
    "                                                                     4:3}.get))\n",
    "\n",
    "print(cc_data.info())"
   ]
  },
  {
   "cell_type": "code",
   "execution_count": 51,
   "metadata": {
    "collapsed": true
   },
   "outputs": [],
   "source": [
    "# Seperate target data and explanatory data to NumPy arrays\n",
    "# ***Alert*** Changed variable names\n",
    "y = cc_data['default payment next month'].values\n",
    "X = cc_data.drop('default payment next month', axis='columns').values\n",
    "\n",
    "# Column names for labeling\n",
    "X_names = cc_data.drop('default payment next month', axis='columns').columns"
   ]
  },
  {
   "cell_type": "code",
   "execution_count": 50,
   "metadata": {
    "collapsed": false
   },
   "outputs": [],
   "source": [
    "# Source: Python Machine Learning by Sebastian Raschka\n",
    "# Create train and test sets using 80/20 split\n",
    "from sklearn.cross_validation import train_test_split\n",
    "X_train, X_test, y_train, y_test =  train_test_split(X, y, test_size=0.20, random_state=1)"
   ]
  },
  {
   "cell_type": "code",
   "execution_count": 95,
   "metadata": {
    "collapsed": true
   },
   "outputs": [],
   "source": [
    "# Source: Python Machine Learning by Sebastian Raschka\n",
    "# estimator pipelines\n",
    "from sklearn.preprocessing import StandardScaler\n",
    "from sklearn.decomposition import PCA\n",
    "from sklearn.linear_model import LogisticRegression\n",
    "from sklearn.pipeline import Pipeline\n",
    "\n",
    "# Logistic Regression Pipe\n",
    "clf_name='Logistic Regression'\n",
    "pipe_lr = Pipeline([('scl', StandardScaler()),\n",
    "                    ('pca', PCA(n_components=2)),\n",
    "                    ('clf', LogisticRegression(random_state=1))])\n",
    "param_grid_lr = [{'clf__C': [.1,1,10,100,1000],\n",
    "                  'clf__penalty': ['l1','l2'],\n",
    "                  'clf__class_weight': ['balanced', None]}]\n",
    "payload_lr = [clf_name, pipe_lr, param_grid_lr]\n",
    "\n",
    "\n",
    "# KNN Pipe\n",
    "clf_name='K Nearest Neighbors'\n",
    "from sklearn.neighbors import KNeighborsClassifier\n",
    "pipe_knn = Pipeline([('scl', StandardScaler()),\n",
    "                    ('pca', PCA(n_components=2)),\n",
    "                    ('clf', KNeighborsClassifier())])\n",
    "param_grid_knn = [{'clf__n_neighbors': np.arange(1, 11, 1), # Series of 1 to 10\n",
    "                  'clf__p': [1,2]}]\n",
    "payload_knn = [clf_name, pipe_knn, param_grid_knn]\n",
    "\n",
    "# Randomforest Pipe \n",
    "# Shouldn't scale on RF\n",
    "from sklearn.ensemble import RandomForestClassifier\n",
    "pipe_rf = Pipeline([('clf', RandomForestClassifier(criterion='entropy', \n",
    "                                                   random_state=1,\n",
    "                                                   n_jobs=1))])\n",
    "\n",
    "# Saving for later\n",
    "# param_grid_rf = [{'clf__criterion': ['entropy','gini'],\n",
    "#                   'clf__n_estimators': [10,20,30,50], \n",
    "#                   'clf__max_features': ['auto', 'sqrt', 'log2', None],\n",
    "#                   'clf__class_weight': ['balanced', 'balanced_subsample', None]}]\n",
    "\n",
    "# Faster setting for testing\n",
    "param_grid_rf = [{'clf__criterion': ['entropy'],\n",
    "                  'clf__n_estimators': [50], \n",
    "                  'clf__max_features': ['auto'],\n",
    "                  'clf__class_weight': ['balanced', 'balanced_subsample', None]}]\n",
    "\n",
    "clf_name='Random Forest'\n",
    "payload_rf = [clf_name, pipe_rf, param_grid_rf]"
   ]
  },
  {
   "cell_type": "code",
   "execution_count": 100,
   "metadata": {
    "collapsed": false
   },
   "outputs": [
    {
     "name": "stdout",
     "output_type": "stream",
     "text": [
      "0.811317567568\n",
      "{'clf__max_features': 'auto', 'clf__criterion': 'entropy', 'clf__class_weight': None, 'clf__n_estimators': 50}\n",
      "Pipeline(steps=[('clf', RandomForestClassifier(bootstrap=True, class_weight=None, criterion='entropy',\n",
      "            max_depth=None, max_features='auto', max_leaf_nodes=None,\n",
      "            min_samples_leaf=1, min_samples_split=2,\n",
      "            min_weight_fraction_leaf=0.0, n_estimators=50, n_jobs=1,\n",
      "            oob_score=False, random_state=1, verbose=0, warm_start=False))])\n"
     ]
    },
    {
     "data": {
      "image/png": "[encoded data removed]",
      "text/plain": [
       "<matplotlib.figure.Figure at 0xc6020b8>"
      ]
     },
     "metadata": {},
     "output_type": "display_data"
    }
   ],
   "source": [
    "%matplotlib inline\n",
    "# Source: Python Machine Learning by Sebastian Raschka\n",
    "from sklearn.grid_search import GridSearchCV\n",
    "from sklearn import metrics\n",
    "from sklearn.metrics import roc_curve, auc\n",
    "from sklearn.cross_validation import train_test_split\n",
    "\"\"\"\n",
    "Per documentation on Scikit-Learn regarding cross validation (cv) parameter, \n",
    "\"For integer/None inputs, if y is binary or multiclass, StratifiedKFold used. If the \n",
    "estimator is a classifier or if y is neither binary nor multiclass, KFold is used.\"\n",
    "\"\"\"\n",
    "\n",
    "def grid_searcher2(X, y, payload):\n",
    "    X_train, X_test, y_train, y_test = \\\n",
    "                            train_test_split(X, y, test_size=0.20, random_state=1)\n",
    "    with warnings.catch_warnings():\n",
    "        warnings.simplefilter(\"ignore\")\n",
    "        gs = GridSearchCV(estimator=payload[1], \n",
    "                          param_grid=payload[2], \n",
    "                          scoring='accuracy', \n",
    "                          cv=10,\n",
    "                          n_jobs=-1)\n",
    "\n",
    "        gs = gs.fit(X_train, y_train)\n",
    "        print(gs.best_score_)\n",
    "        print(gs.best_params_)\n",
    "        print(gs.best_estimator_)\n",
    "\n",
    "        # Make ROC Curve\n",
    "        clf = gs.best_estimator_\n",
    "        clf.fit(X_train, y_train)\n",
    "        y_pred_rf = clf.predict_proba(X_test)[:, 1]\n",
    "        fpr_rf, tpr_rf, _ = roc_curve(y_test, y_pred_rf)\n",
    "\n",
    "    plt.figure(1)\n",
    "    plt.plot(fpr_rf, tpr_rf, label='RF')\n",
    "    plt.plot([0, 1], [0, 1], 'k--')\n",
    "    \n",
    "grid_searcher2(X, y, payload_rf)"
   ]
  },
  {
   "cell_type": "code",
   "execution_count": 60,
   "metadata": {
    "collapsed": false
   },
   "outputs": [
    {
     "name": "stdout",
     "output_type": "stream",
     "text": [
      "Logistic Regression\n",
      "Fold: 1, Class dist.: [16546  4765], Acc: 0.786\n",
      "Fold: 2, Class dist.: [16546  4765], Acc: 0.789\n",
      "Fold: 3, Class dist.: [16546  4765], Acc: 0.789\n",
      "Fold: 4, Class dist.: [16546  4765], Acc: 0.800\n",
      "Fold: 5, Class dist.: [16546  4765], Acc: 0.789\n",
      "Fold: 6, Class dist.: [16547  4766], Acc: 0.793\n",
      "Fold: 7, Class dist.: [16547  4766], Acc: 0.794\n",
      "Fold: 8, Class dist.: [16547  4766], Acc: 0.788\n",
      "Fold: 9, Class dist.: [16547  4766], Acc: 0.794\n",
      "Fold: 10, Class dist.: [16547  4766], Acc: 0.794\n",
      "\n",
      "CV accuracy: 0.792 +/- 0.004\n",
      "\n",
      "K Nearest Neighbors\n",
      "Fold: 1, Class dist.: [16546  4765], Acc: 0.773\n",
      "Fold: 2, Class dist.: [16546  4765], Acc: 0.771\n",
      "Fold: 3, Class dist.: [16546  4765], Acc: 0.769\n",
      "Fold: 4, Class dist.: [16546  4765], Acc: 0.780\n",
      "Fold: 5, Class dist.: [16546  4765], Acc: 0.779\n",
      "Fold: 6, Class dist.: [16547  4766], Acc: 0.776\n",
      "Fold: 7, Class dist.: [16547  4766], Acc: 0.769\n",
      "Fold: 8, Class dist.: [16547  4766], Acc: 0.760\n",
      "Fold: 9, Class dist.: [16547  4766], Acc: 0.777\n",
      "Fold: 10, Class dist.: [16547  4766], Acc: 0.785\n",
      "\n",
      "CV accuracy: 0.774 +/- 0.007\n",
      "\n",
      "Random Forest\n",
      "Fold: 1, Class dist.: [16546  4765], Acc: 0.808\n",
      "Fold: 2, Class dist.: [16546  4765], Acc: 0.796\n",
      "Fold: 3, Class dist.: [16546  4765], Acc: 0.802\n",
      "Fold: 4, Class dist.: [16546  4765], Acc: 0.813\n",
      "Fold: 5, Class dist.: [16546  4765], Acc: 0.816\n",
      "Fold: 6, Class dist.: [16547  4766], Acc: 0.798\n",
      "Fold: 7, Class dist.: [16547  4766], Acc: 0.792\n",
      "Fold: 8, Class dist.: [16547  4766], Acc: 0.802\n",
      "Fold: 9, Class dist.: [16547  4766], Acc: 0.805\n",
      "Fold: 10, Class dist.: [16547  4766], Acc: 0.815\n",
      "\n",
      "CV accuracy: 0.805 +/- 0.008\n",
      "\n"
     ]
    }
   ],
   "source": [
    "# Could use cross_val_score instead\n",
    "# Cross Validation Object\n",
    "from sklearn.cross_validation import StratifiedKFold\n",
    "kfold = StratifiedKFold(y=y_train,\n",
    "                           n_folds=10,\n",
    "                           random_state=1)\n",
    "\n",
    "# Source: Python Machine Learning by Sebastian Raschka\n",
    "def kfold_estimator(X_train, y_train, kfold, pipe_payload):\n",
    "    clf_name = pipe_payload[0] # assigns name\n",
    "    pipe = pipe_payload[1] # assigns pipeline\n",
    "    scores = []\n",
    "    print(clf_name)\n",
    "    with warnings.catch_warnings():\n",
    "        warnings.simplefilter(\"ignore\")\n",
    "        for k, (train, test) in enumerate(kfold):\n",
    "            pipe.fit(X_train[train], y_train[train])\n",
    "            score = pipe.score(X_train[test], y_train[test])\n",
    "            scores.append(score)\n",
    "            print('Fold: %s, Class dist.: %s, Acc: %.3f' % (k+1,\n",
    "                  np.bincount(y_train[train]), score))\n",
    "\n",
    "    print('\\nCV accuracy: %.3f +/- %.3f' % (np.mean(scores), np.std(scores)))\n",
    "    print()\n",
    "    return [clf_name, np.mean(scores), np.std(scores)]\n",
    "    \n",
    "metrics_lr = kfold_estimator(X_train, y_train, kfold, payload_lr)\n",
    "metrics_knn = kfold_estimator(X_train, y_train, kfold, payload_knn)\n",
    "metrics_rf = kfold_estimator(X_train, y_train, kfold, payload_rf)"
   ]
  },
  {
   "cell_type": "code",
   "execution_count": 59,
   "metadata": {
    "collapsed": false
   },
   "outputs": [
    {
     "name": "stdout",
     "output_type": "stream",
     "text": [
      "['Logistic Regression', 0.79168125893124164, 0.0039910688829860007] ['K Nearest Neighbors', 0.77411301055761261, 0.0067034517328527915] ['Random Forest', 0.80460209618571665, 0.0077759046210634092]\n"
     ]
    }
   ],
   "source": [
    "print(metrics_lr,\n",
    "metrics_knn,\n",
    "metrics_rf)"
   ]
  },
  {
   "cell_type": "code",
   "execution_count": null,
   "metadata": {
    "collapsed": true
   },
   "outputs": [],
   "source": []
  },
  {
   "cell_type": "code",
   "execution_count": 101,
   "metadata": {
    "collapsed": false
   },
   "outputs": [
    {
     "name": "stderr",
     "output_type": "stream",
     "text": [
      "C:\\Users\\ryan.shuhart\\AppData\\Local\\Continuum\\Anaconda3\\lib\\site-packages\\sklearn\\lda.py:4: DeprecationWarning: lda.LDA has been moved to discriminant_analysis.LinearDiscriminantAnalysis in 0.17 and will be removed in 0.19\n",
      "  \"in 0.17 and will be removed in 0.19\", DeprecationWarning)\n"
     ]
    },
    {
     "name": "stdout",
     "output_type": "stream",
     "text": [
      "pca: [[ -8.52847865e-08   2.84917567e-08   3.18875724e-06   1.37355378e-06\n",
      "    1.82636400e-06   1.80822076e-06   1.82550194e-06   1.85943845e-06\n",
      "    1.92324403e-06   4.45908342e-01   4.40285624e-01   4.28771056e-01\n",
      "    3.97714441e-01   3.70059574e-01   3.53820172e-01   2.51169500e-02\n",
      "    2.85924118e-02   2.39220952e-02   1.93798479e-02   1.88567055e-02\n",
      "    2.02067748e-02   2.72023306e-07   6.81278650e-07   8.52847865e-08\n",
      "    7.36657603e-08  -1.16137240e-08  -6.20520362e-08]\n",
      " [ -3.51218712e-07  -8.43946089e-07   1.48946097e-06   1.28266433e-06\n",
      "    1.62837634e-06   4.64954509e-07  -1.21723231e-06  -2.61065062e-06\n",
      "   -3.59641408e-06   5.52247481e-01   3.94524819e-01   4.20940896e-02\n",
      "   -2.55404312e-01  -4.19891919e-01  -4.75538942e-01  -4.71120784e-02\n",
      "   -1.79104692e-01  -1.44345093e-01  -1.02395486e-01  -6.49924882e-02\n",
      "    8.98328586e-03   2.10039643e-07  -5.94208193e-07   3.51218712e-07\n",
      "    9.87839858e-09   2.42400613e-08  -3.41184598e-08]\n",
      " [  8.98344687e-09   6.64923394e-07   3.55898141e-06  -3.93421667e-06\n",
      "   -4.14693632e-06  -3.31924434e-06  -1.31097048e-06  -2.33501461e-06\n",
      "   -3.63943110e-06  -1.79086680e-01  -3.10839041e-02   5.37882965e-01\n",
      "    6.37713713e-02  -2.12619712e-01  -3.16841569e-01   2.02354519e-01\n",
      "    6.81258702e-01   4.22178168e-02  -2.88680617e-02   2.62895099e-02\n",
      "    1.40048349e-01   3.71719321e-07   1.22015959e-06  -8.98344688e-09\n",
      "    9.92627033e-08   3.69236335e-08  -1.36186337e-07]\n",
      " [ -1.57130787e-07   2.22316228e-06   1.10120480e-05  -8.20530888e-06\n",
      "   -7.89213570e-06  -8.98885457e-06  -9.88991632e-06  -8.61436927e-06\n",
      "   -6.87535980e-06   3.14545538e-01   3.27569590e-02  -3.30825333e-01\n",
      "   -2.56232531e-01  -4.91207449e-03   1.29707425e-01   2.49154078e-01\n",
      "    2.60019363e-01   4.14784572e-01   4.20269873e-01   3.16185907e-01\n",
      "    3.60145902e-01   9.19917081e-07   4.19319988e-06   1.57130787e-07\n",
      "    1.04860805e-07   6.44923927e-08  -1.69353197e-07]]\n",
      "lda: [[ -5.76758253e-02   3.83980978e-02   6.47375849e-03   7.07735022e-01\n",
      "    1.48546139e-01   8.67326235e-02   1.91454522e-02   4.63548931e-02\n",
      "    1.01644057e-02  -5.01027519e-06   1.41705998e-06   5.58165320e-08\n",
      "   -3.18823709e-07   1.22740751e-08   5.72165782e-07  -5.88132442e-06\n",
      "   -1.47566459e-06  -5.15832285e-07  -2.01133316e-06  -2.68443004e-06\n",
      "   -1.08898730e-06   1.13690218e-02  -4.70204511e-02   5.76758253e-02\n",
      "    9.81830479e-02   4.40983123e-02  -9.97472468e-02]]\n"
     ]
    },
    {
     "name": "stderr",
     "output_type": "stream",
     "text": [
      "C:\\Users\\ryan.shuhart\\AppData\\Local\\Continuum\\Anaconda3\\lib\\site-packages\\sklearn\\discriminant_analysis.py:387: UserWarning: Variables are collinear.\n",
      "  warnings.warn(\"Variables are collinear.\")\n"
     ]
    }
   ],
   "source": [
    "# *** Dale I split this cell and put the above in one just for the separating the data ***\n",
    "\n",
    "#PCA or LDA code\n",
    "# now let's use PCA, and LDA to find the two \"best\" dimensions of this data\n",
    "# these are linear transforms to help project the features into something more understandable\n",
    "\n",
    "from sklearn.decomposition import PCA\n",
    "from sklearn.lda import LDA\n",
    "\n",
    "#copy the data to use code from sample\n",
    "# X = cc_data_Xs\n",
    "# y = cc_data_target\n",
    "target_names = cc_data_Xs_names\n",
    "\n",
    "pca = PCA(n_components=4)\n",
    "X_pca = pca.fit(X).transform(X) # fit data and then transform it\n",
    "\n",
    "lda = LDA(n_components=4)\n",
    "X_lda = lda.fit(X, y).transform(X) # fit data and then transform it\n",
    "\n",
    "# print the components\n",
    "\n",
    "print ('pca:', pca.components_)\n",
    "print ('lda:', lda.scalings_.T)"
   ]
  },
  {
   "cell_type": "code",
   "execution_count": 102,
   "metadata": {
    "collapsed": false
   },
   "outputs": [
    {
     "name": "stdout",
     "output_type": "stream",
     "text": [
      "-0.00* +0.00*EDUC +0.00* +0.00*PAY_0 +0.00*PAY_ +0.00*PAY_3 +0.00*PAY_4 +0.00*PAY_ +0.00*PAY_6_ +0.45*BILL_AMT1 +0.44*BILL_AMT +0.43*BILL_AMT3 +0.40*BILL_AMT4 +0.37*BILL_AMT +0.35*BILL_AMT6_ +0.03*PAY_AMT1 +0.03*PAY_AMT +0.02*PAY_AMT3 +0.02*PAY_AMT4 +0.02*PAY_AMT +0.02*PAY_AMT6_ +0.00*AGE_ +0.00*LIMIT_BAL_ +0.00*i +0.00*Marriage_Ma -0.00*Marriage_O -0.00*Marriage_S \n",
      "-0.00* -0.00*EDUC +0.00* +0.00*PAY_0 +0.00*PAY_ +0.00*PAY_3 -0.00*PAY_4 -0.00*PAY_ -0.00*PAY_6_ +0.55*BILL_AMT1 +0.39*BILL_AMT +0.04*BILL_AMT3 -0.26*BILL_AMT4 -0.42*BILL_AMT -0.48*BILL_AMT6_ -0.05*PAY_AMT1 -0.18*PAY_AMT -0.14*PAY_AMT3 -0.10*PAY_AMT4 -0.06*PAY_AMT +0.01*PAY_AMT6_ +0.00*AGE_ -0.00*LIMIT_BAL_ +0.00*i +0.00*Marriage_Ma +0.00*Marriage_O -0.00*Marriage_S \n",
      "0.00* +0.00*EDUC +0.00* -0.00*PAY_0 -0.00*PAY_ -0.00*PAY_3 -0.00*PAY_4 -0.00*PAY_ -0.00*PAY_6_ -0.18*BILL_AMT1 -0.03*BILL_AMT +0.54*BILL_AMT3 +0.06*BILL_AMT4 -0.21*BILL_AMT -0.32*BILL_AMT6_ +0.20*PAY_AMT1 +0.68*PAY_AMT +0.04*PAY_AMT3 -0.03*PAY_AMT4 +0.03*PAY_AMT +0.14*PAY_AMT6_ +0.00*AGE_ +0.00*LIMIT_BAL_ -0.00*i +0.00*Marriage_Ma +0.00*Marriage_O -0.00*Marriage_S \n",
      "-0.00* +0.00*EDUC +0.00* -0.00*PAY_0 -0.00*PAY_ -0.00*PAY_3 -0.00*PAY_4 -0.00*PAY_ -0.00*PAY_6_ +0.31*BILL_AMT1 +0.03*BILL_AMT -0.33*BILL_AMT3 -0.26*BILL_AMT4 -0.00*BILL_AMT +0.13*BILL_AMT6_ +0.25*PAY_AMT1 +0.26*PAY_AMT +0.41*PAY_AMT3 +0.42*PAY_AMT4 +0.32*PAY_AMT +0.36*PAY_AMT6_ +0.00*AGE_ +0.00*LIMIT_BAL_ +0.00*i +0.00*Marriage_Ma +0.00*Marriage_O -0.00*Marriage_S \n",
      "['-0.06* +0.04*EDUC +0.01* +0.71*PAY_0 +0.15*PAY_ +0.09*PAY_3 +0.02*PAY_4 +0.05*PAY_ +0.01*PAY_6_ -0.00*BILL_AMT1 +0.00*BILL_AMT +0.00*BILL_AMT3 -0.00*BILL_AMT4 +0.00*BILL_AMT +0.00*BILL_AMT6_ -0.00*PAY_AMT1 -0.00*PAY_AMT -0.00*PAY_AMT3 -0.00*PAY_AMT4 -0.00*PAY_AMT -0.00*PAY_AMT6_ +0.01*AGE_ -0.05*LIMIT_BAL_ +0.06*i +0.10*Marriage_Ma +0.04*Marriage_O -0.10*Marriage_S ']\n"
     ]
    },
    {
     "data": {
      "image/png": "[encoded data removed]",
      "text/plain": [
       "<matplotlib.figure.Figure at 0x103c6908>"
      ]
     },
     "metadata": {},
     "output_type": "display_data"
    },
    {
     "data": {
      "text/plain": [
       "<matplotlib.figure.Figure at 0x103ce5f8>"
      ]
     },
     "metadata": {},
     "output_type": "display_data"
    }
   ],
   "source": [
    "%matplotlib inline\n",
    "# this function definition just formats the weights into readable strings\n",
    "# you can skip it without loss of generality to the Data Science content\n",
    "def get_feature_names_from_weights(weights, names):\n",
    "    tmp_array = []\n",
    "    for comp in weights:\n",
    "        tmp_string = ''\n",
    "        for fidx,f in enumerate(names):\n",
    "            if fidx>0 and comp[fidx]>=0:\n",
    "                tmp_string+='+'\n",
    "            tmp_string += '%.2f*%s ' % (comp[fidx],f[:-5])\n",
    "        tmp_array.append(tmp_string)\n",
    "    return tmp_array\n",
    "  \n",
    "# now let's get to the Data Analytics!\n",
    "pca_weight_strings = get_feature_names_from_weights(pca.components_, cc_data_Xs_names) \n",
    "lda_weight_strings = get_feature_names_from_weights(lda.scalings_.T, cc_data_Xs_names) \n",
    "\n",
    "# create some pandas dataframes from the transformed outputs\n",
    "df_pca = pd.DataFrame(X_pca,columns=[pca_weight_strings])\n",
    "df_lda = pd.DataFrame(X_lda,columns=[lda_weight_strings])\n",
    "\n",
    "from pandas.tools.plotting import scatter_plot\n",
    "\n",
    "print(pca_weight_strings[0])\n",
    "print(pca_weight_strings[1])\n",
    "print(pca_weight_strings[2])\n",
    "print(pca_weight_strings[3])\n",
    "print(lda_weight_strings)\n",
    "# plot is broken.\n",
    "# scatter plot the output, with the names created from the weights\n",
    "ax = scatter_plot(df_pca, pca_weight_strings[0], pca_weight_strings[1])\n",
    "newfig = plt.figure()\n",
    "#ax = scatter_plot(df_lda, 'x', 'x')\n",
    "plt.show()"
   ]
  },
  {
   "cell_type": "markdown",
   "metadata": {},
   "source": [
    "### Data Preparation (15 points total) - part 2\n",
    "\n",
    "* [5 points] Describe the final dataset that is used for classification/regression (include a\n",
    "description of any newly formed variables you created).\n",
    "\n",
    "<font color='Red'>Not Complete</font>\n",
    "\n",
    "\n",
    "#### Convert data to numpy arrays for training"
   ]
  },
  {
   "cell_type": "markdown",
   "metadata": {},
   "source": [
    "### Modeling and Evaluation (70 points total)"
   ]
  },
  {
   "cell_type": "markdown",
   "metadata": {},
   "source": [
    "* [10 points] Choose and explain your evaluation metrics that you will use (i.e., accuracy,\n",
    "precision, recall, F-measure, or any metric we have discussed). Why are the measure(s)\n",
    "appropriate for analyzing the results of your modeling? Give a detailed explanation\n",
    "backing up any assertions.\n",
    "\n",
    "<font color='Red'>Not Complete</font>\n",
    "\n",
    "    ROC Curves and AUC scores are good measures for imbalanced data scources. \"The main goal for learning from imbalanced datasets is to improve the recall without hurting the precision...The F-value metric is one measure that combines the trade-offs of precision and recall, and outputs a single number reflecting the \"goodness\" of a classifier in the presence of rare classes. \"\n",
    "    https://www3.nd.edu/~dial/publications/chawla2005data.pdf\n",
    "\n",
    "    From Wikipedia:\n",
    "    \"Precision (also called positive predictive value) is the fraction of retrieved instances that are relevant\"\n",
    "    \"Recall (also known as sensitivity) is the fraction of relevant instances that are retrieved.\"\n",
    "    https://en.wikipedia.org/wiki/Precision_and_recall"
   ]
  },
  {
   "cell_type": "code",
   "execution_count": null,
   "metadata": {
    "collapsed": false
   },
   "outputs": [],
   "source": [
    "# Find a evaluation metric the is compareable for binary and multiclassification "
   ]
  },
  {
   "cell_type": "markdown",
   "metadata": {},
   "source": [
    "* [10 points] Choose the method you will use for dividing your data into training and\n",
    "testing splits (i.e., are you using Stratified 10-fold cross validation? Why?). Explain why\n",
    "your chosen method is appropriate or use more than one method as appropriate. For\n",
    "example, if you are using time series data then you should be using continuous training\n",
    "and testing sets across time.\n",
    "\n",
    "<font color='Red'>Not Complete</font>\n"
   ]
  },
  {
   "cell_type": "code",
   "execution_count": null,
   "metadata": {
    "collapsed": false
   },
   "outputs": [],
   "source": [
    "# For dividing data we will use stratified 10 fold\n",
    "# http://scikit-learn.org/stable/modules/generated/sklearn.cross_validation.StratifiedKFold.html\n",
    "from sklearn.cross_validation import StratifiedKFold"
   ]
  },
  {
   "cell_type": "code",
   "execution_count": null,
   "metadata": {
    "collapsed": false
   },
   "outputs": [],
   "source": [
    ">>> from sklearn.cross_validation import StratifiedKFold\n",
    ">>> X = np.array([[1, 2], [3, 4], [1, 2], [3, 4]])\n",
    ">>> y = np.array([0, 0, 1, 1])\n",
    ">>> skf = StratifiedKFold(y, n_folds=2)\n",
    ">>> len(skf)\n",
    "2\n",
    ">>> print(skf)  \n",
    "sklearn.cross_validation.StratifiedKFold(labels=[0 0 1 1], n_folds=2,\n",
    "                                         shuffle=False, random_state=None)\n",
    ">>> for train_index, test_index in skf:\n",
    "...    print(\"TRAIN:\", train_index, \"TEST:\", test_index)\n",
    "...    X_train, X_test = X[train_index], X[test_index]\n",
    "...    y_train, y_test = y[train_index], y[test_index]\n",
    "TRAIN: [1 3] TEST: [0 2]\n",
    "TRAIN: [0 2] TEST: [1 3]\n",
    ".. automethod:: __init__"
   ]
  },
  {
   "cell_type": "markdown",
   "metadata": {},
   "source": [
    "* [20 points] Create three different classification/regression models for each task (e.g.,\n",
    "random forest, KNN, and SVM for task one and the same or different algorithms for\n",
    "task two). Two modeling techniques must be new (but the third could be SVM or\n",
    "logistic regression). Adjust parameters as appropriate to increase generalization\n",
    "performance using your chosen metric. You must investigate different parameters\n",
    "of the algorithms!\n",
    "\n",
    "<font color='Red'>Not Complete</font>"
   ]
  },
  {
   "cell_type": "code",
   "execution_count": 13,
   "metadata": {
    "collapsed": false
   },
   "outputs": [],
   "source": [
    "# The three different classifications we will use will be logistic regression, random forest, and KNN\n",
    "# *** Do not use scaling on Random Forest - it doesn't need it***\n",
    "\n",
    "# Task 2 find alternative prediction to default; find 3 levels of risk groups, high, medium, low\n",
    "\n",
    "# Apply gridsearchCV"
   ]
  },
  {
   "cell_type": "markdown",
   "metadata": {},
   "source": [
    "* [10 points] Analyze the results using your chosen method of evaluation. Use\n",
    "visualizations of the results to bolster the analysis. Explain any visuals and analyze why\n",
    "they are interesting to someone that might use this model.\n",
    "\n",
    "<font color='Red'>Not Complete</font>"
   ]
  },
  {
   "cell_type": "code",
   "execution_count": null,
   "metadata": {
    "collapsed": false
   },
   "outputs": [],
   "source": [
    "# Draw the ROC for default evaluation\n",
    "\n",
    "# Show something else for the risk grouping"
   ]
  },
  {
   "cell_type": "markdown",
   "metadata": {},
   "source": [
    "* [10 points] Discuss the advantages of each model for each classification task, if any. If\n",
    "there are not advantages, explain why. Is any model better than another? Is the\n",
    "difference significant with 95% confidence? Use proper statistical comparison methods.\n",
    "You must use statistical comparison techniques—be sure they are appropriate for your\n",
    "chosen method of validation as discussed in unit 7 of the course.\n",
    "\n",
    "<font color='Red'>Not Complete</font>"
   ]
  },
  {
   "cell_type": "code",
   "execution_count": null,
   "metadata": {
    "collapsed": false
   },
   "outputs": [],
   "source": [
    "# Look more into this later"
   ]
  },
  {
   "cell_type": "markdown",
   "metadata": {},
   "source": [
    "* [10 points] Which attributes from your analysis are most important? Use proper\n",
    "methods discussed in class to evaluate the importance of different attributes. Discuss\n",
    "the results and hypothesize about why certain attributes are more important than others\n",
    "for a given classification task.\n",
    "\n",
    "<font color='Red'>Not Complete</font>"
   ]
  },
  {
   "cell_type": "code",
   "execution_count": null,
   "metadata": {
    "collapsed": true
   },
   "outputs": [],
   "source": [
    "# Figure this out later"
   ]
  },
  {
   "cell_type": "markdown",
   "metadata": {},
   "source": [
    "Deployment (5 points total)\n",
    "* How useful is your model for interested parties (i.e., the companies or organizations\n",
    "that might want to use it for prediction)? How would you measure the model's value if it\n",
    "was used by these parties? How would your deploy your model for interested parties?\n",
    "What other data should be collected? How often would the model need to be updated,\n",
    "etc.?\n",
    "\n",
    "<font color='Red'>Not Complete</font>\n",
    "* The models provide a starting point for interested parties, identifying the most fruitful models with the data available. From this point, a conversation would be in order with the prospective model users about additional data that would enhance predictions and cover corner cases, and request additional data to test and validate again. \n",
    "* To measure the value, one would implement the model in a business setting. This is envisioned as  customer advisers calling customers that are going to default to offer help or whatever action the business sees fit to take to avoid that outcome. At the point where the CC company has fewer defaults and people have fewer defaults to struggle with, then you have a valid measurement: old default rate versus new default rate.\n",
    "* Updates to the model would be determined by its overall impact to the customer and company, combined with new ideas that develop as the model is tweaked to come up with better predictions. At some point the tweaks will not significantly improve the prediction at which time the company may decide to just keep it as-is and move the resource to more productive problems that need to be tackled. \n"
   ]
  },
  {
   "cell_type": "code",
   "execution_count": null,
   "metadata": {
    "collapsed": true
   },
   "outputs": [],
   "source": [
    "# Other data: Add credit score "
   ]
  },
  {
   "cell_type": "markdown",
   "metadata": {},
   "source": [
    "Exceptional Work (10 points total)\n",
    "* You have free reign to provide additional analyses.\n",
    "* One idea: grid search parameters in a parallelized fashion and visualize the\n",
    "performances across attributes. Which parameters are most significant for making a\n",
    "good model for each classification algorithm?\n",
    "\n",
    "<font color='Red'>Not Complete</font>\n",
    "\n"
   ]
  },
  {
   "cell_type": "code",
   "execution_count": null,
   "metadata": {
    "collapsed": true
   },
   "outputs": [],
   "source": [
    "# Try and use gridsearch in the above"
   ]
  }
 ],
 "metadata": {
  "kernelspec": {
   "display_name": "Python 3",
   "language": "python",
   "name": "python3"
  },
  "language_info": {
   "codemirror_mode": {
    "name": "ipython",
    "version": 3
   },
   "file_extension": ".py",
   "mimetype": "text/x-python",
   "name": "python",
   "nbconvert_exporter": "python",
   "pygments_lexer": "ipython3",
   "version": "3.5.1"
  }
 },
 "nbformat": 4,
 "nbformat_minor": 0
}
